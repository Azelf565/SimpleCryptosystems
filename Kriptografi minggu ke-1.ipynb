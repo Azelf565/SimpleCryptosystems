{
 "cells": [
  {
   "cell_type": "markdown",
   "metadata": {},
   "source": [
    "# Kriptografi Minggu ke-1 - Sandi Geser, Sandi Subtitusi, Sandi Afin, dan Sandi Vigenere"
   ]
  },
  {
   "cell_type": "markdown",
   "metadata": {},
   "source": [
    "                                    Toto Budi Trapsilo (17/412732/PA/18051)                                                 \n",
    "                                               21 September 2020"
   ]
  },
  {
   "cell_type": "markdown",
   "metadata": {},
   "source": [
    "## 1. Sandi geser"
   ]
  },
  {
   "cell_type": "code",
   "execution_count": 1,
   "metadata": {},
   "outputs": [],
   "source": [
    "import string\n",
    "\n",
    "def pisah(word): #fungsi untuk memisah data string menjadi list yang berisi char\n",
    "    return list(word)\n",
    "\n",
    "def listkestring(s): #keballikan dari fungsi pisah\n",
    "    str1 = \"\"\n",
    "    return (str1.join(s)) \n",
    "\n",
    "#useful facts : A==65==7 (mod 26), a==97==13 (mod 26)\n",
    "\n",
    "def fungsi_sandi_geser(kunci,teks):\n",
    "    alfabet_k=string.ascii_uppercase\n",
    "    a=pisah(alfabet_k)\n",
    "    b=pisah(teks)\n",
    "    for i in range(0,len(teks)):\n",
    "        b[i]=a[(ord(teks[i])+kunci+7)%26]\n",
    "    return(listkestring(b))\n",
    "\n",
    "def fungsi_pengurai_geser(kunci,sandi):\n",
    "    alfabet_k=string.ascii_lowercase\n",
    "    a=pisah(alfabet_k)\n",
    "    b=pisah(sandi)\n",
    "    for i in range(0,len(sandi)):\n",
    "        #print((ord(teks_awal[i])+kunci+13)%26)\n",
    "        b[i]=a[(ord(sandi[i])-kunci+13)%26]\n",
    "        #print(b[i])\n",
    "    return(listkestring(b))"
   ]
  },
  {
   "cell_type": "code",
   "execution_count": 2,
   "metadata": {},
   "outputs": [],
   "source": [
    "t1='snowbeneaththesnow'"
   ]
  },
  {
   "cell_type": "code",
   "execution_count": 3,
   "metadata": {},
   "outputs": [
    {
     "name": "stdout",
     "output_type": "stream",
     "text": [
      "TOPXCFOFBUIUIFTOPX\n"
     ]
    }
   ],
   "source": [
    "ts1=fungsi_sandi_geser(1,t1)\n",
    "print(ts1)"
   ]
  },
  {
   "cell_type": "code",
   "execution_count": 4,
   "metadata": {
    "scrolled": true
   },
   "outputs": [
    {
     "name": "stdout",
     "output_type": "stream",
     "text": [
      "snowbeneaththesnow\n"
     ]
    }
   ],
   "source": [
    "tst1=fungsi_pengurai_geser(1,ts1)\n",
    "print(tst1)"
   ]
  },
  {
   "cell_type": "markdown",
   "metadata": {},
   "source": [
    "## 2. Sandi subtitusi"
   ]
  },
  {
   "cell_type": "code",
   "execution_count": 5,
   "metadata": {},
   "outputs": [],
   "source": [
    "def fungsi_sandi_subtitusi(kunci,teks):\n",
    "\n",
    "    pert=pisah(kunci) #kunci=string barisan prapeta permutasi yang dipakai e.g., pi(a)=x, pi(b)=N..=> kunci='XN...'        \n",
    "    b=pisah(teks)\n",
    "    for i in range(0,len(b)):\n",
    "       b[i]=pert[(ord(b[i])+7)%26] #ord(a)=97==19 mod 26, => ord(a)+7==0 mod 26\n",
    "    return(listkestring(b))\n",
    "\n",
    "def fungsi_pengurai_subtitusi(kunci, teks):\n",
    "    permutasi=[] #list yang berisi prapeta permutasi yang dipakai tapi dikonversi ke dalam Z_26\n",
    "    iver=[] #list yang berisi prapeta invers permutasi yang dipakai\n",
    "    \n",
    "    pert=pisah(kunci)\n",
    "    b=pisah(teks)\n",
    "    for i in range(0,26): #untuk mendapatkan list permutasi, dipakai untuk mencari invers\n",
    "        permutasi.append(ord(pert[i])-65) \n",
    "\n",
    "    for i in range(0,26): #untuk mencari iver\n",
    "        for j in range(0,26):\n",
    "            if(permutasi[j]==i):\n",
    "                iver.append(chr(97+j)) #ord(a)=97, agar\n",
    "                \n",
    "    for i in range(0,len(b)):\n",
    "       b[i]=iver[(ord(b[i])+13)%26]\n",
    "    return(listkestring(b))"
   ]
  },
  {
   "cell_type": "code",
   "execution_count": 6,
   "metadata": {},
   "outputs": [],
   "source": [
    "t2='sendbobandvegetables'"
   ]
  },
  {
   "cell_type": "code",
   "execution_count": 7,
   "metadata": {},
   "outputs": [
    {
     "name": "stdout",
     "output_type": "stream",
     "text": [
      "VHSANFNXSAEHOHMXNBHV\n"
     ]
    }
   ],
   "source": [
    "ts2=fungsi_sandi_subtitusi('XNYAHPOGZQWBTSFLRCVMUEKJDI',t2)\n",
    "print(ts2)"
   ]
  },
  {
   "cell_type": "code",
   "execution_count": 8,
   "metadata": {},
   "outputs": [
    {
     "name": "stdout",
     "output_type": "stream",
     "text": [
      "sendbobandvegetables\n"
     ]
    }
   ],
   "source": [
    "tst2=fungsi_pengurai_subtitusi('XNYAHPOGZQWBTSFLRCVMUEKJDI',ts2)\n",
    "print(tst2)"
   ]
  },
  {
   "cell_type": "markdown",
   "metadata": {},
   "source": [
    "## 3. Sandi Afin"
   ]
  },
  {
   "cell_type": "code",
   "execution_count": 9,
   "metadata": {},
   "outputs": [
    {
     "name": "stdout",
     "output_type": "stream",
     "text": [
      "1   3   5   7   9   11   15   17   19   21   23   "
     ]
    }
   ],
   "source": [
    "import math \n",
    "\n",
    "for i in range(1,25): #untuk mencari bilangan asli kurang dari 26 yang relatif prima terhadap 26\n",
    "    if math.gcd(i,26)==1:\n",
    "        print(i,end='   ')\n",
    "        \n",
    "def invers(a):\n",
    "    for i in range(0,26):\n",
    "        if (a*i)%26==1:\n",
    "            return (i)\n",
    "    else :\n",
    "        return(0)"
   ]
  },
  {
   "cell_type": "code",
   "execution_count": 10,
   "metadata": {},
   "outputs": [],
   "source": [
    "def fungsi_sandi_afin(kunci,teks):\n",
    "    m,n=kunci[0],kunci[1]\n",
    "    b=pisah(teks)\n",
    "    alfabet_k=string.ascii_uppercase\n",
    "    a=pisah(alfabet_k)\n",
    "        \n",
    "    for i in range(0,len(teks)):\n",
    "        k=(m*(ord(b[i])+7)+n)%26\n",
    "        b[i]=a[k]\n",
    "    return(listkestring(b))\n",
    "\n",
    "\n",
    "def fungsi_pengurai_afin(kunci,sandi):\n",
    "    m,n=kunci[0],kunci[1]  \n",
    "    alfabet_k=string.ascii_lowercase\n",
    "    a=pisah(alfabet_k)\n",
    "    b=pisah(sandi)\n",
    "    \n",
    "    for i in range(0,len(sandi)):\n",
    "        k=(invers(m)*(ord(b[i])+13-n))%26\n",
    "        b[i]=a[k]\n",
    "    return(listkestring(b))"
   ]
  },
  {
   "cell_type": "code",
   "execution_count": 11,
   "metadata": {},
   "outputs": [],
   "source": [
    "t3='dalangdibalikpembunuhanmuniradalah'"
   ]
  },
  {
   "cell_type": "code",
   "execution_count": 12,
   "metadata": {},
   "outputs": [
    {
     "name": "stdout",
     "output_type": "stream",
     "text": [
      "ABGBOZAHSBGHPWRXSDODQBOXDOHEBABGBQ\n"
     ]
    }
   ],
   "source": [
    "ts3=fungsi_sandi_afin((17,1),t3)\n",
    "print(ts3)"
   ]
  },
  {
   "cell_type": "code",
   "execution_count": 13,
   "metadata": {},
   "outputs": [
    {
     "name": "stdout",
     "output_type": "stream",
     "text": [
      "dalangdibalikpembunuhanmuniradalah\n"
     ]
    }
   ],
   "source": [
    "tst3=fungsi_pengurai_afin((17,1),ts3)\n",
    "print(tst3)"
   ]
  },
  {
   "cell_type": "markdown",
   "metadata": {},
   "source": [
    "## 4. Sandi Vigenere"
   ]
  },
  {
   "cell_type": "code",
   "execution_count": 14,
   "metadata": {},
   "outputs": [],
   "source": [
    "def fungsi_sandi_vigenere(kunci,teks):\n",
    "    k=pisah(kunci)\n",
    "    b=pisah(teks)\n",
    "    a=string.ascii_uppercase\n",
    "    \n",
    "    for i in range(0,len(teks)):\n",
    "        for j in range(0,len(kunci)):\n",
    "            if (i%len(kunci)==j):\n",
    "                b[i]=a[(ord(b[i])+7+ord(k[j])+13)%26]\n",
    "    return(listkestring(b))\n",
    "\n",
    "def fungsi_pengurai_vigenere(kunci,teks):\n",
    "    k=pisah(kunci)\n",
    "    a=string.ascii_lowercase\n",
    "    b=pisah(teks)\n",
    "    \n",
    "    for i in range(0,len(teks)):\n",
    "        for j in range(0,len(kunci)):\n",
    "            if (i%len(kunci)==j):\n",
    "                b[i]=a[(ord(b[i])-ord(k[j]))%26]\n",
    "    return(listkestring(b))"
   ]
  },
  {
   "cell_type": "code",
   "execution_count": 15,
   "metadata": {},
   "outputs": [],
   "source": [
    "t4='thiscryptosystemisnotsecure'"
   ]
  },
  {
   "cell_type": "code",
   "execution_count": 16,
   "metadata": {},
   "outputs": [
    {
     "name": "stdout",
     "output_type": "stream",
     "text": [
      "VPXZGIAXIVWPUBTTMJPWIZITWZT\n"
     ]
    }
   ],
   "source": [
    "ts4=fungsi_sandi_vigenere('CIPHER',t4)\n",
    "print(ts4)"
   ]
  },
  {
   "cell_type": "code",
   "execution_count": 17,
   "metadata": {},
   "outputs": [
    {
     "name": "stdout",
     "output_type": "stream",
     "text": [
      "thiscryptosystemisnotsecure\n"
     ]
    }
   ],
   "source": [
    "tst4=fungsi_pengurai_vigenere('CIPHER',ts4)\n",
    "print(tst4)"
   ]
  },
  {
   "cell_type": "code",
   "execution_count": null,
   "metadata": {},
   "outputs": [],
   "source": []
  }
 ],
 "metadata": {
  "kernelspec": {
   "display_name": "Python 3",
   "language": "python",
   "name": "python3"
  },
  "language_info": {
   "codemirror_mode": {
    "name": "ipython",
    "version": 3
   },
   "file_extension": ".py",
   "mimetype": "text/x-python",
   "name": "python",
   "nbconvert_exporter": "python",
   "pygments_lexer": "ipython3",
   "version": "3.8.3"
  }
 },
 "nbformat": 4,
 "nbformat_minor": 4
}
