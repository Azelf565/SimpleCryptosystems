{
 "cells": [
  {
   "cell_type": "markdown",
   "metadata": {},
   "source": [
    "# Kriptografi 2 - Sandi Hill dan Sandi Permutasi\n",
    "Toto Budi Trapsilo (17/412732/PA/18051)\n",
    "7 Oktober 2020"
   ]
  },
  {
   "cell_type": "markdown",
   "metadata": {},
   "source": [
    "### Fungsi untuk mengubah string ke list dan sebaliknya "
   ]
  },
  {
   "cell_type": "code",
   "execution_count": 1,
   "metadata": {},
   "outputs": [],
   "source": [
    "import string\n",
    "\n",
    "def pisah(word): #fungsi untuk memisah data string menjadi list yang berisi char\n",
    "    return list(word)\n",
    "\n",
    "def listkestring(s): #keballikan dari fungsi pisah\n",
    "    str1 = \"\"\n",
    "    return (str1.join(s)) "
   ]
  },
  {
   "cell_type": "markdown",
   "metadata": {},
   "source": [
    "## 1. Sandi Hill (extended)"
   ]
  },
  {
   "cell_type": "code",
   "execution_count": 2,
   "metadata": {},
   "outputs": [],
   "source": [
    "import numpy as np\n",
    "\n",
    "def invers26(n):\n",
    "    for i in range(0,26):\n",
    "        if ((n*i)%26==1):\n",
    "            return i\n",
    "    raise ValueError(str(n)+' tidak memiliki invers di Z_26, sehingga kunci tidak valid')\n",
    "        \n",
    "def minor(A,i,j):\n",
    "  A=np.array(A)\n",
    "  m=np.zeros(shape=(len(A)-1,len(A)-1))\n",
    "  p=0\n",
    "  for s in range(0,len(m)):\n",
    "    if p==i:\n",
    "      p=p+1\n",
    "    q=0\n",
    "    for t in range(0,len(m)):\n",
    "      if q==j:\n",
    "        q=q+1\n",
    "      m[s][t]=A[p][q]\n",
    "      q=q+1\n",
    "    p=p+1\n",
    "  return m\n",
    "\n",
    "def inversMatriks26(A):\n",
    "  n=len(A)\n",
    "  A=np.matrix(A)\n",
    "  adj=np.zeros(shape=(n,n))\n",
    "  for i in range(0,n):\n",
    "    for j in range(0,n):\n",
    "      adj[i][j]=((-1)**(i+j)*int(round(np.linalg.det(minor(A,j,i)))))%26\n",
    "  return (invers26(int(round(np.linalg.det(A))))*adj)%26"
   ]
  },
  {
   "cell_type": "code",
   "execution_count": 3,
   "metadata": {},
   "outputs": [],
   "source": [
    "def fungsi_sandi_hill(kunci,teks):\n",
    "    \n",
    "    det=int(round(np.linalg.det(kunci)))%26\n",
    "    invers26(det)\n",
    "    \n",
    "    if(len(teks)%len(kunci)!=0):\n",
    "        raise ValueError('kunci tidak valid bos, order kunci harus membagi habis panjang teks')\n",
    "    \n",
    "    a=pisah(teks)\n",
    "    b=a\n",
    "    c=[]\n",
    "    m=int(len(a)/len(kunci))\n",
    "    \n",
    "    for i in range(0,m):\n",
    "        q=np.zeros(len(kunci))\n",
    "        for j in range(0,len(kunci)):\n",
    "            q[j]=(ord(a[(len(kunci)*i+j)])+7)%26\n",
    "        for j in range(0,len(kunci)):\n",
    "            b[len(kunci)*i+j]=np.matmul(kunci,q)[j]%26\n",
    "            c.append(chr(int(b[len(kunci)*i+j])+65))\n",
    "    return(listkestring(c))"
   ]
  },
  {
   "cell_type": "code",
   "execution_count": 4,
   "metadata": {},
   "outputs": [],
   "source": [
    "def fungsi_pengurai_hill(kunci,teks):\n",
    "    kunci=inversMatriks26(kunci)\n",
    "    det=int(round(np.linalg.det(kunci)))%26\n",
    "    invers26(det)\n",
    "    \n",
    "    if(len(teks)%len(kunci)!=0):\n",
    "        raise ValueError('kunci tidak valid bos, order kunci harus membagi habis panjang teks')\n",
    "    \n",
    "    a=pisah(teks)\n",
    "    b=a\n",
    "    c=[]\n",
    "    m=int(len(a)/len(kunci))\n",
    "    \n",
    "    for i in range(0,m):\n",
    "        q=np.zeros(len(kunci))\n",
    "        for j in range(0,len(kunci)):\n",
    "            q[j]=(ord(a[(len(kunci)*i+j)])+13)%26\n",
    "        for j in range(0,len(kunci)):\n",
    "            b[len(kunci)*i+j]=np.matmul(kunci,q)[j]%26\n",
    "            c.append(chr(int(b[len(kunci)*i+j])+97))\n",
    "    return(listkestring(c))"
   ]
  },
  {
   "cell_type": "code",
   "execution_count": 5,
   "metadata": {},
   "outputs": [],
   "source": [
    "A=[[2,9],[5,5]] #perkolom\n",
    "t1='wemeetatmidnight'\n",
    "#print(inversMatriks26(B))"
   ]
  },
  {
   "cell_type": "code",
   "execution_count": 6,
   "metadata": {},
   "outputs": [
    {
     "name": "stdout",
     "output_type": "stream",
     "text": [
      "CAICXLPRSWTCSSDA\n"
     ]
    }
   ],
   "source": [
    "ts1=fungsi_sandi_hill(A,t1)\n",
    "print(ts1)"
   ]
  },
  {
   "cell_type": "code",
   "execution_count": 7,
   "metadata": {},
   "outputs": [
    {
     "name": "stdout",
     "output_type": "stream",
     "text": [
      "wemeetatmidnight\n"
     ]
    }
   ],
   "source": [
    "tst1=fungsi_pengurai_hill(A,ts1)\n",
    "print(tst1)"
   ]
  },
  {
   "cell_type": "markdown",
   "metadata": {},
   "source": [
    "## 2. Sandi Permutasi"
   ]
  },
  {
   "cell_type": "code",
   "execution_count": 8,
   "metadata": {},
   "outputs": [],
   "source": [
    "def matrikspermutasi(kunci):\n",
    "    n=len(kunci)\n",
    "    K=np.zeros((n,n))\n",
    "    for i in range(0,len(kunci)):\n",
    "        for j in range(0,len(kunci)):\n",
    "            if (kunci[j]==i+1):\n",
    "                K[i][j]=1\n",
    "            else:\n",
    "                K[i][j]=0\n",
    "    return(K)"
   ]
  },
  {
   "cell_type": "code",
   "execution_count": 9,
   "metadata": {},
   "outputs": [],
   "source": [
    "def inverspermutasi(permutasi):\n",
    "    k=matrikspermutasi(permutasi)\n",
    "    l=inversMatriks26(k)\n",
    "    n=len(permutasi)\n",
    "    p=np.zeros(n)\n",
    "    \n",
    "    for i in range(0,len(permutasi)):\n",
    "        for j in range(0,len(permutasi)):\n",
    "            if (k[i][j]==1):\n",
    "                p[i]=j+1\n",
    "    return(p)"
   ]
  },
  {
   "cell_type": "code",
   "execution_count": 10,
   "metadata": {},
   "outputs": [],
   "source": [
    "def fungsi_pengurai_permutasi(kunci,teks):\n",
    "    kunci=matrikspermutasi(kunci)\n",
    "    return(fungsi_pengurai_hill(kunci,teks))\n",
    "\n",
    "def fungsi_sandi_permutasi(kunci,teks):\n",
    "    kunci=matrikspermutasi(kunci)\n",
    "    return(fungsi_sandi_hill(kunci,teks))"
   ]
  },
  {
   "cell_type": "code",
   "execution_count": 11,
   "metadata": {},
   "outputs": [],
   "source": [
    "kunci=[2,4,3,1]\n",
    "t2='wemeetatmidnight'\n",
    "#print(inverspermutasi(kunci))"
   ]
  },
  {
   "cell_type": "code",
   "execution_count": 12,
   "metadata": {},
   "outputs": [
    {
     "name": "stdout",
     "output_type": "stream",
     "text": [
      "EWMETEATNMDITIHG\n"
     ]
    }
   ],
   "source": [
    "ts2=fungsi_sandi_permutasi(kunci,t2)\n",
    "print(ts2)"
   ]
  },
  {
   "cell_type": "code",
   "execution_count": 13,
   "metadata": {},
   "outputs": [
    {
     "name": "stdout",
     "output_type": "stream",
     "text": [
      "wemeetatmidnight\n"
     ]
    }
   ],
   "source": [
    "tst2=fungsi_pengurai_permutasi(kunci,ts2)\n",
    "print(tst2)"
   ]
  }
 ],
 "metadata": {
  "kernelspec": {
   "display_name": "Python 3",
   "language": "python",
   "name": "python3"
  },
  "language_info": {
   "codemirror_mode": {
    "name": "ipython",
    "version": 3
   },
   "file_extension": ".py",
   "mimetype": "text/x-python",
   "name": "python",
   "nbconvert_exporter": "python",
   "pygments_lexer": "ipython3",
   "version": "3.8.3"
  }
 },
 "nbformat": 4,
 "nbformat_minor": 4
}
